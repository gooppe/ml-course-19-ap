{
 "cells": [
  {
   "cell_type": "code",
   "execution_count": 1,
   "metadata": {},
   "outputs": [],
   "source": [
    "import numpy as np\n",
    "import csv\n",
    "\n",
    "from scipy import sparse\n",
    "\n",
    "from matplotlib import pyplot as plt\n",
    "from tqdm.notebook import tqdm\n",
    "import warnings\n",
    "from collections import Counter, defaultdict"
   ]
  },
  {
   "cell_type": "code",
   "execution_count": 2,
   "metadata": {},
   "outputs": [],
   "source": [
    "def generate_dummy_dataset(n_clusters=3, n_points=100):\n",
    "    data = []\n",
    "    for cluster in range(n_clusters):\n",
    "        mean = np.random.uniform(-10, 10, 2)\n",
    "        cov = np.eye(2)\n",
    "        x, y = np.random.multivariate_normal(mean=mean, cov=cov, size=n_points).T\n",
    "        target_cluster = [cluster] * n_points\n",
    "        \n",
    "        data += list(zip(x, y, target_cluster))\n",
    "        plt.scatter(x, y)\n",
    "\n",
    "    plt.show()\n",
    "    np.random.shuffle(data)\n",
    "    return data"
   ]
  },
  {
   "cell_type": "code",
   "execution_count": 3,
   "metadata": {},
   "outputs": [
    {
     "data": {
      "image/png": "[encoded data removed]",
      "text/plain": [
       "<Figure size 432x288 with 1 Axes>"
      ]
     },
     "metadata": {
      "needs_background": "light"
     },
     "output_type": "display_data"
    }
   ],
   "source": [
    "dummy_data = generate_dummy_dataset()\n",
    "x, y, target = zip(*dummy_data)\n",
    "points = np.array(list(zip(x, y)))"
   ]
  },
  {
   "cell_type": "code",
   "execution_count": 4,
   "metadata": {},
   "outputs": [],
   "source": [
    "def simillarity(points):\n",
    "        samples = len(points)\n",
    "        a, b = points.T[np.newaxis, ...], points[..., np.newaxis]\n",
    "        sim = -np.sum((a - b) ** 2, axis=1)\n",
    "        median = np.median(sim)\n",
    "        sim.flat[::samples + 1] = median\n",
    "        return sim\n",
    "\n",
    "def affinity_propogation(s, max_iters=1000, damping=0.5):\n",
    "#     size = len(points)\n",
    "#     s = simillarity(points)\n",
    "    size = s.shape[0]\n",
    "    r, a = np.zeros_like(s), np.zeros_like(s)\n",
    "    each_ = np.arange(size)\n",
    "    \n",
    "    for i in tqdm(range(max_iters)):\n",
    "        # Responsabilities:\n",
    "        t_ = a + s\n",
    "        ind_ = t_.argmax(axis=-1)\n",
    "        max_ = t_[each_, ind_]\n",
    "        t_[each_, ind_] = -np.inf\n",
    "        max_2 = t_.max(axis=-1)\n",
    "        r_ = max_[:, None].repeat(size, -1)\n",
    "        r_[each_, ind_] = max_2\n",
    "        r_ = s - r_\n",
    "        r = (1 - damping) * r_ + damping * r\n",
    "        \n",
    "        # Availability:\n",
    "        t_ = np.maximum(r, 0)\n",
    "        t_.flat[::size+1] = r.flat[::size+1]\n",
    "        t_ = np.sum(t_, 0) - t_\n",
    "        diag = np.diag(t_).copy()\n",
    "        t_ = np.minimum(t_, 0)\n",
    "        t_.flat[::size+1] = diag\n",
    "        a = (1 - damping) * t_ + damping * a\n",
    "        \n",
    "    \n",
    "    # Get exemplars\n",
    "    exemplars = (np.diag(a) + np.diag(r)) > 0\n",
    "    exemplars_idx = np.flatnonzero(exemplars)\n",
    "    n_clusters = len(exemplars_idx)\n",
    "    labels = np.argmax(s[:, exemplars_idx], axis=1)\n",
    "    labels[exemplars_idx] = np.arange(n_clusters)\n",
    "    clusters = [np.where(labels == i)[0] for i in range(n_clusters)]\n",
    "    \n",
    "    return labels, clusters, exemplars_idx"
   ]
  },
  {
   "cell_type": "code",
   "execution_count": 5,
   "metadata": {
    "scrolled": true
   },
   "outputs": [
    {
     "data": {
      "application/vnd.jupyter.widget-view+json": {
       "model_id": "aae096ff66fb47bca9b6ced7cad844b1",
       "version_major": 2,
       "version_minor": 0
      },
      "text/plain": [
       "HBox(children=(IntProgress(value=0), HTML(value='')))"
      ]
     },
     "metadata": {},
     "output_type": "display_data"
    },
    {
     "name": "stdout",
     "output_type": "stream",
     "text": [
      "\n"
     ]
    },
    {
     "data": {
      "image/png": "[encoded data removed]",
      "text/plain": [
       "<Figure size 432x288 with 1 Axes>"
      ]
     },
     "metadata": {
      "needs_background": "light"
     },
     "output_type": "display_data"
    }
   ],
   "source": [
    "S = simillarity(points)\n",
    "labels, clusters, idx = affinity_propogation(S, 100)\n",
    "cl_points = points[idx]\n",
    "\n",
    "for cluster in clusters:\n",
    "    plt.scatter(*zip(*points[cluster]))\n",
    "\n",
    "plt.scatter(*zip(*points[idx]), marker=\"x\", c=\"black\")\n",
    "plt.show()"
   ]
  },
  {
   "cell_type": "code",
   "execution_count": 7,
   "metadata": {},
   "outputs": [],
   "source": [
    "def load_gowalla_dataset(filename: str, test_size=1000) -> tuple:\n",
    "    with open(filename) as file:\n",
    "        reader = csv.reader(file, delimiter=\"\\t\")\n",
    "        data = np.array([(int(a), int(b)) for a, b in reader])\n",
    "    return data"
   ]
  },
  {
   "cell_type": "code",
   "execution_count": 8,
   "metadata": {},
   "outputs": [],
   "source": [
    "data = load_gowalla_dataset(\"dataset/loc-gowalla_edges.txt\")\n",
    "users = set([i for p in data for i in p])\n",
    "n_users = len(users)\n",
    "M = sparse.coo_matrix(([1.] * len(data), zip(*data)), shape=(n_users, n_users))"
   ]
  },
  {
   "cell_type": "code",
   "execution_count": 9,
   "metadata": {},
   "outputs": [
    {
     "data": {
      "text/plain": [
       "(196591, 1900654)"
      ]
     },
     "execution_count": 9,
     "metadata": {},
     "output_type": "execute_result"
    }
   ],
   "source": [
    "len(set([a for a, b in data])), len(data)"
   ]
  },
  {
   "cell_type": "markdown",
   "metadata": {},
   "source": [
    "Oh, well..."
   ]
  },
  {
   "cell_type": "code",
   "execution_count": 10,
   "metadata": {},
   "outputs": [],
   "source": [
    "def sparse_affinity_propogation(s, max_iters=100, damping=0.5):\n",
    "    warnings.filterwarnings('error')\n",
    "    size = s.shape[0]\n",
    "    s = s.tocsr()\n",
    "    r = sparse.lil_matrix(s.shape)\n",
    "    a = sparse.lil_matrix(s.shape)\n",
    "    \n",
    "    each_ = np.arange(size)\n",
    "    \n",
    "    for i in tqdm(range(max_iters)):\n",
    "        # Responsabilities:\n",
    "        t_ = s + a\n",
    "        first_argmax = np.ravel(t_.argmax(-1))\n",
    "        first_max = np.ravel(t_[each_, first_argmax])\n",
    "        \n",
    "        t__ = t_.copy()\n",
    "        t__[each_, first_argmax] = -np.inf\n",
    "        second_max = np.ravel(t__.max(-1).todense())\n",
    "        t_ = t_.tocoo()\n",
    "        r_ = sparse.lil_matrix(r.shape)\n",
    "        for i, j, v in zip(t_.row, t_.col, t_.data):\n",
    "            if v == first_max[i]:\n",
    "                val = v - second_max[i]\n",
    "            else:\n",
    "                val = v - first_max[i]\n",
    "            r_[i, j] = val\n",
    "\n",
    "        r = (1 - damping) * r_ + damping * r\n",
    "        r_diag = np.ravel(r.diagonal())\n",
    "        r.tolil().setdiag(0)\n",
    "        r_max_0 = r.maximum(0)\n",
    "\n",
    "        # Availability:\n",
    "        a_ = sparse.lil_matrix(a.shape)\n",
    "        r_sum = np.ravel(r_max_0.sum(0))\n",
    "        r_max_0 = r_max_0.tocoo()\n",
    "        for i, k, v in zip(r_max_0.row, r_max_0.col, r_max_0.data):\n",
    "            a_ik = r_diag[k] + r_sum[k] - v\n",
    "            if a_ik < 0:\n",
    "                a_[i, k] = a_ik\n",
    "\n",
    "        a_ = a_.minimum(0).tocoo()\n",
    "        a_.setdiag(r_sum)\n",
    "        a = (1 - damping) * a_ + damping * a\n",
    "        \n",
    "    \n",
    "    # Get exemplars\n",
    "    exemplars = (np.ravel(a.diagonal()) + np.ravel(r.diagonal())) > 0\n",
    "    exemplars_idx = np.flatnonzero(exemplars)\n",
    "    n_clusters = len(exemplars_idx)\n",
    "    labels = np.ravel(s[:, exemplars_idx].argmax(-1))\n",
    "    labels[exemplars_idx] = np.arange(n_clusters)\n",
    "    clusters = [np.where(labels == i)[0] for i in range(n_clusters)]\n",
    "    \n",
    "    return exemplars_idx, labels, clusters"
   ]
  },
  {
   "cell_type": "code",
   "execution_count": 11,
   "metadata": {},
   "outputs": [
    {
     "data": {
      "application/vnd.jupyter.widget-view+json": {
       "model_id": "c8f66028e0e840b8a9beb5290274b90e",
       "version_major": 2,
       "version_minor": 0
      },
      "text/plain": [
       "HBox(children=(IntProgress(value=0), HTML(value='')))"
      ]
     },
     "metadata": {},
     "output_type": "display_data"
    },
    {
     "name": "stdout",
     "output_type": "stream",
     "text": [
      "\n"
     ]
    }
   ],
   "source": [
    "exemplars_idx, labels, clusters = sparse_affinity_propogation(M, 100)"
   ]
  },
  {
   "cell_type": "code",
   "execution_count": 12,
   "metadata": {},
   "outputs": [
    {
     "data": {
      "text/plain": [
       "(32803, 196591, 32803)"
      ]
     },
     "execution_count": 12,
     "metadata": {},
     "output_type": "execute_result"
    }
   ],
   "source": [
    "len(exemplars_idx), len(labels), len(clusters)"
   ]
  },
  {
   "cell_type": "code",
   "execution_count": 13,
   "metadata": {},
   "outputs": [],
   "source": [
    "def load_checkins(filename=\"dataset/loc-gowalla_totalCheckins.txt\", total=6442892, test_size=100000):\n",
    "    checkins = np.empty((total, 2), dtype=np.int)\n",
    "    with open(filename, \"r\") as file:\n",
    "        reader = csv.reader(file, delimiter=\"\\t\")\n",
    "        for i, t in enumerate(reader):\n",
    "            user, place = int(t[0]), int(t[-1])\n",
    "            checkins[i] = user, place\n",
    "    \n",
    "    indexes = np.random.permutation(len(checkins))\n",
    "    test_indexes = indexes[:test_size]\n",
    "    train_indexes = indexes[test_size:]\n",
    "    return checkins[train_indexes], checkins[test_indexes]"
   ]
  },
  {
   "cell_type": "code",
   "execution_count": 14,
   "metadata": {},
   "outputs": [],
   "source": [
    "train_checkins, test_checkins = load_checkins()"
   ]
  },
  {
   "cell_type": "markdown",
   "metadata": {},
   "source": [
    "Рекомендации по кластерам вычисляются как топ наиболее часто посещаемых мест пользователями из кластера.\n",
    "\n",
    "Базовые рекомендации берем как топ всех мест, наиболее часто посещаемых пользователями."
   ]
  },
  {
   "cell_type": "code",
   "execution_count": 15,
   "metadata": {},
   "outputs": [],
   "source": [
    "def predict(checkins, labels, clusters, n=10):\n",
    "    counters = [Counter() for _ in range(len(clusters))]\n",
    "    for user, place in tqdm(checkins):\n",
    "        user_cluster = labels[user]\n",
    "        counters[user_cluster].update([place])\n",
    "    \n",
    "    predictions = []\n",
    "    for c in counters:\n",
    "        mc = c.most_common(n)\n",
    "        predictions.append([place for place, score in mc])\n",
    "    \n",
    "    return predictions"
   ]
  },
  {
   "cell_type": "code",
   "execution_count": 16,
   "metadata": {},
   "outputs": [
    {
     "data": {
      "application/vnd.jupyter.widget-view+json": {
       "model_id": "d80303cfb684448a801ff890c6c5d4da",
       "version_major": 2,
       "version_minor": 0
      },
      "text/plain": [
       "HBox(children=(IntProgress(value=0, max=6342892), HTML(value='')))"
      ]
     },
     "metadata": {},
     "output_type": "display_data"
    },
    {
     "name": "stdout",
     "output_type": "stream",
     "text": [
      "\n"
     ]
    }
   ],
   "source": [
    "predictions = predict(train_checkins, labels, clusters)"
   ]
  },
  {
   "cell_type": "markdown",
   "metadata": {},
   "source": [
    "Качество вычисляем как пересечение рекомендованных мест и посещаемых мест, деленное на число посещенных мест пользователем"
   ]
  },
  {
   "cell_type": "code",
   "execution_count": 36,
   "metadata": {},
   "outputs": [],
   "source": [
    "def score_ap(predictions, test_checkins, labels):\n",
    "    user_targets = defaultdict(lambda: list())\n",
    "\n",
    "    for user, place in test_checkins:\n",
    "        user_targets[user].append(place)\n",
    "\n",
    "    score = 0\n",
    "    for user, places in user_targets.items():\n",
    "        user_cluster = labels[user]\n",
    "        predicted_places = set(predictions[user_cluster])\n",
    "        target_places = set(places)\n",
    "        score += len(predicted_places.intersection(target_places)) / len(target_places)\n",
    "\n",
    "    return score / len(user_targets)"
   ]
  },
  {
   "cell_type": "code",
   "execution_count": 37,
   "metadata": {},
   "outputs": [
    {
     "data": {
      "text/plain": [
       "0.18027115201655117"
      ]
     },
     "execution_count": 37,
     "metadata": {},
     "output_type": "execute_result"
    }
   ],
   "source": [
    "score_ap(predictions, test_checkins, labels)"
   ]
  },
  {
   "cell_type": "code",
   "execution_count": 38,
   "metadata": {},
   "outputs": [],
   "source": [
    "def predict_baseline(checkins, n=10):\n",
    "    counter = Counter()\n",
    "    for user, place in tqdm(checkins):\n",
    "        counter.update([place])\n",
    "    \n",
    "    return [place for place, score in counter.most_common(n)]"
   ]
  },
  {
   "cell_type": "code",
   "execution_count": 39,
   "metadata": {},
   "outputs": [],
   "source": [
    "def score_baseline(prediction, test_checkins):\n",
    "    user_targets = defaultdict(lambda: list())\n",
    "    for user, place in test_checkins:\n",
    "        user_targets[user].append(place)\n",
    "\n",
    "    score = 0\n",
    "    predicted_places = set(prediction)\n",
    "    for user, places in user_targets.items():\n",
    "        target_places = set(places)\n",
    "        score += len(predicted_places.intersection(target_places)) / len(target_places)\n",
    "\n",
    "    return score / len(user_targets)"
   ]
  },
  {
   "cell_type": "code",
   "execution_count": 40,
   "metadata": {},
   "outputs": [
    {
     "data": {
      "application/vnd.jupyter.widget-view+json": {
       "model_id": "284ff6ed65fa48c1b622bf650cb44044",
       "version_major": 2,
       "version_minor": 0
      },
      "text/plain": [
       "HBox(children=(IntProgress(value=0, max=6342892), HTML(value='')))"
      ]
     },
     "metadata": {},
     "output_type": "display_data"
    },
    {
     "name": "stdout",
     "output_type": "stream",
     "text": [
      "\n"
     ]
    }
   ],
   "source": [
    "base_prediction = predict_baseline(train_checkins)"
   ]
  },
  {
   "cell_type": "code",
   "execution_count": 41,
   "metadata": {},
   "outputs": [
    {
     "data": {
      "text/plain": [
       "0.006525103752842045"
      ]
     },
     "execution_count": 41,
     "metadata": {},
     "output_type": "execute_result"
    }
   ],
   "source": [
    "score_baseline(base_prediction, test_checkins)"
   ]
  },
  {
   "cell_type": "markdown",
   "metadata": {},
   "source": [
    "В итоге для базовых рекомендаций по всему трейну: 0.00652\n",
    "\n",
    "Для рекомендаций через кластеры: 0.18027"
   ]
  },
  {
   "cell_type": "code",
   "execution_count": null,
   "metadata": {},
   "outputs": [],
   "source": []
  }
 ],
 "metadata": {
  "kernelspec": {
   "display_name": "work",
   "language": "python",
   "name": "work"
  },
  "language_info": {
   "codemirror_mode": {
    "name": "ipython",
    "version": 3
   },
   "file_extension": ".py",
   "mimetype": "text/x-python",
   "name": "python",
   "nbconvert_exporter": "python",
   "pygments_lexer": "ipython3",
   "version": "3.7.4"
  }
 },
 "nbformat": 4,
 "nbformat_minor": 2
}
